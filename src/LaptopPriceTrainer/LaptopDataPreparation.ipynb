{
 "cells": [
  {
   "cell_type": "markdown",
   "id": "765cb8cd",
   "metadata": {},
   "source": [
    "**Goal:** Is to develop a machine learning approach to make predictions on the House Price which is a regression task."
   ]
  },
  {
   "cell_type": "code",
   "execution_count": 1,
   "id": "23d44547",
   "metadata": {},
   "outputs": [],
   "source": [
    "import pandas as pd\n",
    "import numpy as np\n",
    "import os\n",
    "import matplotlib.pyplot as plt\n",
    "import seaborn as sns\n",
    "%matplotlib inline\n",
    "sns.set(style='darkgrid')\n",
    "pd.set_option('display.max_columns', None)\n",
    "plt.rcParams['figure.figsize'] = (22, 10)\n",
    "\n",
    "import warnings\n",
    "warnings.simplefilter('ignore', FutureWarning)\n",
    "warnings.simplefilter('ignore', UserWarning)"
   ]
  },
  {
   "cell_type": "markdown",
   "id": "c9c4b7a3",
   "metadata": {},
   "source": [
    "# Exploratory Data Analysis & Pre-processing"
   ]
  },
  {
   "cell_type": "code",
   "execution_count": 2,
   "id": "839ef52f",
   "metadata": {},
   "outputs": [
    {
     "name": "stdout",
     "output_type": "stream",
     "text": [
      "(469, 10)\n",
      "<class 'pandas.core.frame.DataFrame'>\n",
      "RangeIndex: 469 entries, 0 to 468\n",
      "Data columns (total 10 columns):\n",
      " #   Column   Non-Null Count  Dtype  \n",
      "---  ------   --------------  -----  \n",
      " 0   CPU      469 non-null    object \n",
      " 1   GHz      469 non-null    float64\n",
      " 2   GPU      469 non-null    object \n",
      " 3   RAM      469 non-null    int64  \n",
      " 4   RAMType  469 non-null    object \n",
      " 5   Screen   469 non-null    float64\n",
      " 6   Storage  469 non-null    int64  \n",
      " 7   SSD      469 non-null    bool   \n",
      " 8   Weight   469 non-null    float64\n",
      " 9   Price    469 non-null    int64  \n",
      "dtypes: bool(1), float64(3), int64(3), object(3)\n",
      "memory usage: 33.6+ KB\n",
      "None\n"
     ]
    },
    {
     "data": {
      "text/html": [
       "<div>\n",
       "<style scoped>\n",
       "    .dataframe tbody tr th:only-of-type {\n",
       "        vertical-align: middle;\n",
       "    }\n",
       "\n",
       "    .dataframe tbody tr th {\n",
       "        vertical-align: top;\n",
       "    }\n",
       "\n",
       "    .dataframe thead th {\n",
       "        text-align: right;\n",
       "    }\n",
       "</style>\n",
       "<table border=\"1\" class=\"dataframe\">\n",
       "  <thead>\n",
       "    <tr style=\"text-align: right;\">\n",
       "      <th></th>\n",
       "      <th>CPU</th>\n",
       "      <th>GHz</th>\n",
       "      <th>GPU</th>\n",
       "      <th>RAM</th>\n",
       "      <th>RAMType</th>\n",
       "      <th>Screen</th>\n",
       "      <th>Storage</th>\n",
       "      <th>SSD</th>\n",
       "      <th>Weight</th>\n",
       "      <th>Price</th>\n",
       "    </tr>\n",
       "  </thead>\n",
       "  <tbody>\n",
       "    <tr>\n",
       "      <th>0</th>\n",
       "      <td>i5</td>\n",
       "      <td>1.8</td>\n",
       "      <td>intel</td>\n",
       "      <td>4</td>\n",
       "      <td>ddr3</td>\n",
       "      <td>13.3</td>\n",
       "      <td>128</td>\n",
       "      <td>True</td>\n",
       "      <td>1.4</td>\n",
       "      <td>527</td>\n",
       "    </tr>\n",
       "    <tr>\n",
       "      <th>1</th>\n",
       "      <td>i5</td>\n",
       "      <td>2.5</td>\n",
       "      <td>intel</td>\n",
       "      <td>4</td>\n",
       "      <td>ddr3</td>\n",
       "      <td>13.3</td>\n",
       "      <td>500</td>\n",
       "      <td>False</td>\n",
       "      <td>2.0</td>\n",
       "      <td>527</td>\n",
       "    </tr>\n",
       "    <tr>\n",
       "      <th>2</th>\n",
       "      <td>i5</td>\n",
       "      <td>2.5</td>\n",
       "      <td>intel</td>\n",
       "      <td>8</td>\n",
       "      <td>ddr3</td>\n",
       "      <td>13.3</td>\n",
       "      <td>500</td>\n",
       "      <td>False</td>\n",
       "      <td>2.0</td>\n",
       "      <td>558</td>\n",
       "    </tr>\n",
       "    <tr>\n",
       "      <th>3</th>\n",
       "      <td>i5</td>\n",
       "      <td>1.4</td>\n",
       "      <td>intel</td>\n",
       "      <td>4</td>\n",
       "      <td>ddr3</td>\n",
       "      <td>11.6</td>\n",
       "      <td>128</td>\n",
       "      <td>True</td>\n",
       "      <td>1.0</td>\n",
       "      <td>485</td>\n",
       "    </tr>\n",
       "    <tr>\n",
       "      <th>4</th>\n",
       "      <td>i5</td>\n",
       "      <td>1.3</td>\n",
       "      <td>intel</td>\n",
       "      <td>4</td>\n",
       "      <td>ddr3</td>\n",
       "      <td>11.6</td>\n",
       "      <td>128</td>\n",
       "      <td>True</td>\n",
       "      <td>1.0</td>\n",
       "      <td>421</td>\n",
       "    </tr>\n",
       "  </tbody>\n",
       "</table>\n",
       "</div>"
      ],
      "text/plain": [
       "  CPU  GHz    GPU  RAM RAMType  Screen  Storage    SSD  Weight  Price\n",
       "0  i5  1.8  intel    4    ddr3    13.3      128   True     1.4    527\n",
       "1  i5  2.5  intel    4    ddr3    13.3      500  False     2.0    527\n",
       "2  i5  2.5  intel    8    ddr3    13.3      500  False     2.0    558\n",
       "3  i5  1.4  intel    4    ddr3    11.6      128   True     1.0    485\n",
       "4  i5  1.3  intel    4    ddr3    11.6      128   True     1.0    421"
      ]
     },
     "execution_count": 2,
     "metadata": {},
     "output_type": "execute_result"
    }
   ],
   "source": [
    "dataPath = '/home/daniel/Desktop/programming/pythondatascience/datascience/c_sharp/learn_resources/C-sharp-tutorials/laptop-price-prediction/src/LaptopPriceTrainer'\n",
    "data = pd.read_csv(os.path.join(dataPath,'laptoppricesUS.csv'), delimiter='\\t')\n",
    "print(data.shape)\n",
    "print(data.info())\n",
    "data.head()"
   ]
  },
  {
   "cell_type": "markdown",
   "id": "6db7de9e",
   "metadata": {},
   "source": [
    "# Target Exploration (Price)"
   ]
  },
  {
   "cell_type": "code",
   "execution_count": 3,
   "id": "36524a7a",
   "metadata": {},
   "outputs": [
    {
     "data": {
      "text/html": [
       "<div>\n",
       "<style scoped>\n",
       "    .dataframe tbody tr th:only-of-type {\n",
       "        vertical-align: middle;\n",
       "    }\n",
       "\n",
       "    .dataframe tbody tr th {\n",
       "        vertical-align: top;\n",
       "    }\n",
       "\n",
       "    .dataframe thead th {\n",
       "        text-align: right;\n",
       "    }\n",
       "</style>\n",
       "<table border=\"1\" class=\"dataframe\">\n",
       "  <thead>\n",
       "    <tr style=\"text-align: right;\">\n",
       "      <th></th>\n",
       "      <th>CPU</th>\n",
       "      <th>GHz</th>\n",
       "      <th>GPU</th>\n",
       "      <th>RAM</th>\n",
       "      <th>RAMType</th>\n",
       "      <th>Screen</th>\n",
       "      <th>Storage</th>\n",
       "      <th>SSD</th>\n",
       "      <th>Weight</th>\n",
       "    </tr>\n",
       "    <tr>\n",
       "      <th>Price</th>\n",
       "      <th></th>\n",
       "      <th></th>\n",
       "      <th></th>\n",
       "      <th></th>\n",
       "      <th></th>\n",
       "      <th></th>\n",
       "      <th></th>\n",
       "      <th></th>\n",
       "      <th></th>\n",
       "    </tr>\n",
       "  </thead>\n",
       "  <tbody>\n",
       "    <tr>\n",
       "      <th>157</th>\n",
       "      <td>i3</td>\n",
       "      <td>2.4</td>\n",
       "      <td>intel</td>\n",
       "      <td>4</td>\n",
       "      <td>ddr3</td>\n",
       "      <td>13.0</td>\n",
       "      <td>500</td>\n",
       "      <td>0</td>\n",
       "      <td>1.70</td>\n",
       "    </tr>\n",
       "    <tr>\n",
       "      <th>158</th>\n",
       "      <td>i5</td>\n",
       "      <td>2.5</td>\n",
       "      <td>intel</td>\n",
       "      <td>4</td>\n",
       "      <td>ddr3</td>\n",
       "      <td>14.0</td>\n",
       "      <td>320</td>\n",
       "      <td>0</td>\n",
       "      <td>2.00</td>\n",
       "    </tr>\n",
       "    <tr>\n",
       "      <th>181</th>\n",
       "      <td>i5</td>\n",
       "      <td>2.6</td>\n",
       "      <td>intel</td>\n",
       "      <td>4</td>\n",
       "      <td>ddr3</td>\n",
       "      <td>14.0</td>\n",
       "      <td>320</td>\n",
       "      <td>0</td>\n",
       "      <td>2.33</td>\n",
       "    </tr>\n",
       "    <tr>\n",
       "      <th>199</th>\n",
       "      <td>i3</td>\n",
       "      <td>2.4</td>\n",
       "      <td>intel</td>\n",
       "      <td>4</td>\n",
       "      <td>ddr3</td>\n",
       "      <td>13.0</td>\n",
       "      <td>500</td>\n",
       "      <td>0</td>\n",
       "      <td>1.70</td>\n",
       "    </tr>\n",
       "    <tr>\n",
       "      <th>210</th>\n",
       "      <td>i5</td>\n",
       "      <td>2.5</td>\n",
       "      <td>intel</td>\n",
       "      <td>4</td>\n",
       "      <td>ddr3</td>\n",
       "      <td>14.0</td>\n",
       "      <td>128</td>\n",
       "      <td>1</td>\n",
       "      <td>2.13</td>\n",
       "    </tr>\n",
       "    <tr>\n",
       "      <th>...</th>\n",
       "      <td>...</td>\n",
       "      <td>...</td>\n",
       "      <td>...</td>\n",
       "      <td>...</td>\n",
       "      <td>...</td>\n",
       "      <td>...</td>\n",
       "      <td>...</td>\n",
       "      <td>...</td>\n",
       "      <td>...</td>\n",
       "    </tr>\n",
       "    <tr>\n",
       "      <th>1310</th>\n",
       "      <td>i7</td>\n",
       "      <td>2.6</td>\n",
       "      <td>nvidia</td>\n",
       "      <td>16</td>\n",
       "      <td>ddr4</td>\n",
       "      <td>15.0</td>\n",
       "      <td>512</td>\n",
       "      <td>1</td>\n",
       "      <td>2.00</td>\n",
       "    </tr>\n",
       "    <tr>\n",
       "      <th>1470</th>\n",
       "      <td>i7</td>\n",
       "      <td>2.6</td>\n",
       "      <td>nvidia</td>\n",
       "      <td>16</td>\n",
       "      <td>ddr4</td>\n",
       "      <td>15.0</td>\n",
       "      <td>512</td>\n",
       "      <td>1</td>\n",
       "      <td>2.50</td>\n",
       "    </tr>\n",
       "    <tr>\n",
       "      <th>1581</th>\n",
       "      <td>i7</td>\n",
       "      <td>2.6</td>\n",
       "      <td>intel</td>\n",
       "      <td>8</td>\n",
       "      <td>ddr4</td>\n",
       "      <td>15.6</td>\n",
       "      <td>240</td>\n",
       "      <td>0</td>\n",
       "      <td>2.60</td>\n",
       "    </tr>\n",
       "    <tr>\n",
       "      <th>1604</th>\n",
       "      <td>i7</td>\n",
       "      <td>2.9</td>\n",
       "      <td>nvidia</td>\n",
       "      <td>32</td>\n",
       "      <td>ddr4</td>\n",
       "      <td>15.6</td>\n",
       "      <td>240</td>\n",
       "      <td>1</td>\n",
       "      <td>2.70</td>\n",
       "    </tr>\n",
       "    <tr>\n",
       "      <th>1712</th>\n",
       "      <td>i7</td>\n",
       "      <td>2.7</td>\n",
       "      <td>intel</td>\n",
       "      <td>16</td>\n",
       "      <td>ddr4</td>\n",
       "      <td>15.6</td>\n",
       "      <td>480</td>\n",
       "      <td>1</td>\n",
       "      <td>2.60</td>\n",
       "    </tr>\n",
       "  </tbody>\n",
       "</table>\n",
       "<p>207 rows × 9 columns</p>\n",
       "</div>"
      ],
      "text/plain": [
       "      CPU  GHz     GPU  RAM RAMType  Screen  Storage  SSD  Weight\n",
       "Price                                                            \n",
       "157    i3  2.4   intel    4    ddr3    13.0      500    0    1.70\n",
       "158    i5  2.5   intel    4    ddr3    14.0      320    0    2.00\n",
       "181    i5  2.6   intel    4    ddr3    14.0      320    0    2.33\n",
       "199    i3  2.4   intel    4    ddr3    13.0      500    0    1.70\n",
       "210    i5  2.5   intel    4    ddr3    14.0      128    1    2.13\n",
       "...    ..  ...     ...  ...     ...     ...      ...  ...     ...\n",
       "1310   i7  2.6  nvidia   16    ddr4    15.0      512    1    2.00\n",
       "1470   i7  2.6  nvidia   16    ddr4    15.0      512    1    2.50\n",
       "1581   i7  2.6   intel    8    ddr4    15.6      240    0    2.60\n",
       "1604   i7  2.9  nvidia   32    ddr4    15.6      240    1    2.70\n",
       "1712   i7  2.7   intel   16    ddr4    15.6      480    1    2.60\n",
       "\n",
       "[207 rows x 9 columns]"
      ]
     },
     "execution_count": 3,
     "metadata": {},
     "output_type": "execute_result"
    }
   ],
   "source": [
    "data['SSD'] = 1*data.SSD\n",
    "data.groupby('Price').first()"
   ]
  },
  {
   "cell_type": "code",
   "execution_count": 4,
   "id": "fc3b0b08",
   "metadata": {},
   "outputs": [
    {
     "data": {
      "image/png": "[encoded data removed]",
      "text/plain": [
       "<Figure size 1584x720 with 1 Axes>"
      ]
     },
     "metadata": {},
     "output_type": "display_data"
    }
   ],
   "source": [
    "sns.distplot(data.Price)\n",
    "plt.show()"
   ]
  },
  {
   "cell_type": "markdown",
   "id": "6de7af1c",
   "metadata": {},
   "source": [
    "The Price column follows near a **Guassian distribution**"
   ]
  },
  {
   "cell_type": "markdown",
   "id": "08203114",
   "metadata": {},
   "source": [
    "# Check for Missing Values"
   ]
  },
  {
   "cell_type": "code",
   "execution_count": 5,
   "id": "b42c9640",
   "metadata": {},
   "outputs": [
    {
     "data": {
      "text/plain": [
       "CPU        0\n",
       "GHz        0\n",
       "GPU        0\n",
       "RAM        0\n",
       "RAMType    0\n",
       "Screen     0\n",
       "Storage    0\n",
       "SSD        0\n",
       "Weight     0\n",
       "Price      0\n",
       "dtype: int64"
      ]
     },
     "execution_count": 5,
     "metadata": {},
     "output_type": "execute_result"
    }
   ],
   "source": [
    "data.isnull().sum()"
   ]
  },
  {
   "cell_type": "markdown",
   "id": "ef1b0f51",
   "metadata": {},
   "source": [
    "# Check for Outliers"
   ]
  },
  {
   "cell_type": "code",
   "execution_count": 6,
   "id": "e9a83783",
   "metadata": {},
   "outputs": [],
   "source": [
    "def detect_outliers(df, col, remove_outlier = True):\n",
    "    \n",
    "    \"\"\"\n",
    "    Function to detect the presence of Outliers in a column\n",
    "    when remove_outler = False or to remove \n",
    "    Outliers when remove_outler = True\n",
    "    \n",
    "    Args:\n",
    "        df (Dataframe) : dataframe of the data\n",
    "        col (string) : column name of the data\n",
    "    \n",
    "    Returns:\n",
    "        float : detected outliers\n",
    "    \"\"\"\n",
    "    \n",
    "    if remove_outlier:\n",
    "        # 1st quantile is 1%\n",
    "        Q1 = df[col].quantile(0.01)\n",
    "        # 3rd quantile is 99%\n",
    "        Q3 = df[col].quantile(0.99)\n",
    "        IQR = Q3 - Q1\n",
    "        upper_limit = Q3 + 1.5 * IQR\n",
    "        lower_limit = Q1 - 1.5 * IQR\n",
    "\n",
    "        return df.loc[~((df[col] < lower_limit) | (df[col] > upper_limit))]\n",
    "    \n",
    "    else:\n",
    "        \n",
    "        Q1 = df[col].quantile(0.01)\n",
    "        Q3 = df[col].quantile(0.99)\n",
    "        IQR = Q3 - Q1\n",
    "        upper_limit = Q3 + 1.5 * IQR\n",
    "        lower_limit = Q1 - 1.5 * IQR\n",
    "\n",
    "        return df.loc[((data[col] < lower_limit) | (df[col] > upper_limit))]"
   ]
  },
  {
   "cell_type": "code",
   "execution_count": 7,
   "id": "2bda57ff",
   "metadata": {},
   "outputs": [
    {
     "data": {
      "text/html": [
       "<div>\n",
       "<style scoped>\n",
       "    .dataframe tbody tr th:only-of-type {\n",
       "        vertical-align: middle;\n",
       "    }\n",
       "\n",
       "    .dataframe tbody tr th {\n",
       "        vertical-align: top;\n",
       "    }\n",
       "\n",
       "    .dataframe thead th {\n",
       "        text-align: right;\n",
       "    }\n",
       "</style>\n",
       "<table border=\"1\" class=\"dataframe\">\n",
       "  <thead>\n",
       "    <tr style=\"text-align: right;\">\n",
       "      <th></th>\n",
       "      <th>GHz</th>\n",
       "      <th>RAM</th>\n",
       "      <th>Screen</th>\n",
       "      <th>Storage</th>\n",
       "      <th>SSD</th>\n",
       "      <th>Weight</th>\n",
       "      <th>Price</th>\n",
       "    </tr>\n",
       "  </thead>\n",
       "  <tbody>\n",
       "    <tr>\n",
       "      <th>count</th>\n",
       "      <td>469.000000</td>\n",
       "      <td>469.000000</td>\n",
       "      <td>469.000000</td>\n",
       "      <td>469.000000</td>\n",
       "      <td>469.000000</td>\n",
       "      <td>469.000000</td>\n",
       "      <td>469.000000</td>\n",
       "    </tr>\n",
       "    <tr>\n",
       "      <th>mean</th>\n",
       "      <td>2.240085</td>\n",
       "      <td>8.904051</td>\n",
       "      <td>13.627505</td>\n",
       "      <td>221.466951</td>\n",
       "      <td>0.893390</td>\n",
       "      <td>1.717846</td>\n",
       "      <td>533.867804</td>\n",
       "    </tr>\n",
       "    <tr>\n",
       "      <th>std</th>\n",
       "      <td>0.361521</td>\n",
       "      <td>4.304808</td>\n",
       "      <td>1.140939</td>\n",
       "      <td>117.663423</td>\n",
       "      <td>0.308946</td>\n",
       "      <td>0.495570</td>\n",
       "      <td>243.604309</td>\n",
       "    </tr>\n",
       "    <tr>\n",
       "      <th>min</th>\n",
       "      <td>1.100000</td>\n",
       "      <td>4.000000</td>\n",
       "      <td>11.000000</td>\n",
       "      <td>120.000000</td>\n",
       "      <td>0.000000</td>\n",
       "      <td>0.900000</td>\n",
       "      <td>157.000000</td>\n",
       "    </tr>\n",
       "    <tr>\n",
       "      <th>25%</th>\n",
       "      <td>2.200000</td>\n",
       "      <td>8.000000</td>\n",
       "      <td>12.500000</td>\n",
       "      <td>128.000000</td>\n",
       "      <td>1.000000</td>\n",
       "      <td>1.400000</td>\n",
       "      <td>358.000000</td>\n",
       "    </tr>\n",
       "    <tr>\n",
       "      <th>50%</th>\n",
       "      <td>2.300000</td>\n",
       "      <td>8.000000</td>\n",
       "      <td>14.000000</td>\n",
       "      <td>180.000000</td>\n",
       "      <td>1.000000</td>\n",
       "      <td>1.600000</td>\n",
       "      <td>474.000000</td>\n",
       "    </tr>\n",
       "    <tr>\n",
       "      <th>75%</th>\n",
       "      <td>2.500000</td>\n",
       "      <td>8.000000</td>\n",
       "      <td>14.000000</td>\n",
       "      <td>256.000000</td>\n",
       "      <td>1.000000</td>\n",
       "      <td>1.900000</td>\n",
       "      <td>664.000000</td>\n",
       "    </tr>\n",
       "    <tr>\n",
       "      <th>max</th>\n",
       "      <td>3.100000</td>\n",
       "      <td>32.000000</td>\n",
       "      <td>17.300000</td>\n",
       "      <td>750.000000</td>\n",
       "      <td>1.000000</td>\n",
       "      <td>3.460000</td>\n",
       "      <td>1712.000000</td>\n",
       "    </tr>\n",
       "  </tbody>\n",
       "</table>\n",
       "</div>"
      ],
      "text/plain": [
       "              GHz         RAM      Screen     Storage         SSD      Weight  \\\n",
       "count  469.000000  469.000000  469.000000  469.000000  469.000000  469.000000   \n",
       "mean     2.240085    8.904051   13.627505  221.466951    0.893390    1.717846   \n",
       "std      0.361521    4.304808    1.140939  117.663423    0.308946    0.495570   \n",
       "min      1.100000    4.000000   11.000000  120.000000    0.000000    0.900000   \n",
       "25%      2.200000    8.000000   12.500000  128.000000    1.000000    1.400000   \n",
       "50%      2.300000    8.000000   14.000000  180.000000    1.000000    1.600000   \n",
       "75%      2.500000    8.000000   14.000000  256.000000    1.000000    1.900000   \n",
       "max      3.100000   32.000000   17.300000  750.000000    1.000000    3.460000   \n",
       "\n",
       "             Price  \n",
       "count   469.000000  \n",
       "mean    533.867804  \n",
       "std     243.604309  \n",
       "min     157.000000  \n",
       "25%     358.000000  \n",
       "50%     474.000000  \n",
       "75%     664.000000  \n",
       "max    1712.000000  "
      ]
     },
     "execution_count": 7,
     "metadata": {},
     "output_type": "execute_result"
    }
   ],
   "source": [
    "data.describe()"
   ]
  },
  {
   "cell_type": "code",
   "execution_count": 8,
   "id": "52482eeb",
   "metadata": {},
   "outputs": [
    {
     "data": {
      "text/html": [
       "<div>\n",
       "<style scoped>\n",
       "    .dataframe tbody tr th:only-of-type {\n",
       "        vertical-align: middle;\n",
       "    }\n",
       "\n",
       "    .dataframe tbody tr th {\n",
       "        vertical-align: top;\n",
       "    }\n",
       "\n",
       "    .dataframe thead th {\n",
       "        text-align: right;\n",
       "    }\n",
       "</style>\n",
       "<table border=\"1\" class=\"dataframe\">\n",
       "  <thead>\n",
       "    <tr style=\"text-align: right;\">\n",
       "      <th></th>\n",
       "      <th>CPU</th>\n",
       "      <th>GHz</th>\n",
       "      <th>GPU</th>\n",
       "      <th>RAM</th>\n",
       "      <th>RAMType</th>\n",
       "      <th>Screen</th>\n",
       "      <th>Storage</th>\n",
       "      <th>SSD</th>\n",
       "      <th>Weight</th>\n",
       "      <th>Price</th>\n",
       "    </tr>\n",
       "  </thead>\n",
       "  <tbody>\n",
       "  </tbody>\n",
       "</table>\n",
       "</div>"
      ],
      "text/plain": [
       "Empty DataFrame\n",
       "Columns: [CPU, GHz, GPU, RAM, RAMType, Screen, Storage, SSD, Weight, Price]\n",
       "Index: []"
      ]
     },
     "execution_count": 8,
     "metadata": {},
     "output_type": "execute_result"
    }
   ],
   "source": [
    "detect_outliers(data, 'GHz', remove_outlier=False)"
   ]
  },
  {
   "cell_type": "code",
   "execution_count": 9,
   "id": "5d268485",
   "metadata": {},
   "outputs": [
    {
     "data": {
      "image/png": "[encoded data removed]",
      "text/plain": [
       "<Figure size 720x432 with 1 Axes>"
      ]
     },
     "metadata": {},
     "output_type": "display_data"
    }
   ],
   "source": [
    "plt.figure(figsize = (10, 6))\n",
    "sns.boxplot(data.GHz)\n",
    "plt.show()"
   ]
  },
  {
   "cell_type": "code",
   "execution_count": 10,
   "id": "bf3c7dae",
   "metadata": {},
   "outputs": [
    {
     "data": {
      "text/html": [
       "<div>\n",
       "<style scoped>\n",
       "    .dataframe tbody tr th:only-of-type {\n",
       "        vertical-align: middle;\n",
       "    }\n",
       "\n",
       "    .dataframe tbody tr th {\n",
       "        vertical-align: top;\n",
       "    }\n",
       "\n",
       "    .dataframe thead th {\n",
       "        text-align: right;\n",
       "    }\n",
       "</style>\n",
       "<table border=\"1\" class=\"dataframe\">\n",
       "  <thead>\n",
       "    <tr style=\"text-align: right;\">\n",
       "      <th></th>\n",
       "      <th>CPU</th>\n",
       "      <th>GHz</th>\n",
       "      <th>GPU</th>\n",
       "      <th>RAM</th>\n",
       "      <th>RAMType</th>\n",
       "      <th>Screen</th>\n",
       "      <th>Storage</th>\n",
       "      <th>SSD</th>\n",
       "      <th>Weight</th>\n",
       "      <th>Price</th>\n",
       "    </tr>\n",
       "  </thead>\n",
       "  <tbody>\n",
       "  </tbody>\n",
       "</table>\n",
       "</div>"
      ],
      "text/plain": [
       "Empty DataFrame\n",
       "Columns: [CPU, GHz, GPU, RAM, RAMType, Screen, Storage, SSD, Weight, Price]\n",
       "Index: []"
      ]
     },
     "execution_count": 10,
     "metadata": {},
     "output_type": "execute_result"
    }
   ],
   "source": [
    "detect_outliers(data, 'RAM', remove_outlier=False)"
   ]
  },
  {
   "cell_type": "code",
   "execution_count": 11,
   "id": "eef79ad7",
   "metadata": {},
   "outputs": [
    {
     "data": {
      "image/png": "[encoded data removed]",
      "text/plain": [
       "<Figure size 720x432 with 1 Axes>"
      ]
     },
     "metadata": {},
     "output_type": "display_data"
    }
   ],
   "source": [
    "plt.figure(figsize = (10, 6))\n",
    "sns.boxplot(data.RAM)\n",
    "plt.show()"
   ]
  },
  {
   "cell_type": "code",
   "execution_count": 12,
   "id": "f237f772",
   "metadata": {},
   "outputs": [
    {
     "data": {
      "text/html": [
       "<div>\n",
       "<style scoped>\n",
       "    .dataframe tbody tr th:only-of-type {\n",
       "        vertical-align: middle;\n",
       "    }\n",
       "\n",
       "    .dataframe tbody tr th {\n",
       "        vertical-align: top;\n",
       "    }\n",
       "\n",
       "    .dataframe thead th {\n",
       "        text-align: right;\n",
       "    }\n",
       "</style>\n",
       "<table border=\"1\" class=\"dataframe\">\n",
       "  <thead>\n",
       "    <tr style=\"text-align: right;\">\n",
       "      <th></th>\n",
       "      <th>CPU</th>\n",
       "      <th>GHz</th>\n",
       "      <th>GPU</th>\n",
       "      <th>RAM</th>\n",
       "      <th>RAMType</th>\n",
       "      <th>Screen</th>\n",
       "      <th>Storage</th>\n",
       "      <th>SSD</th>\n",
       "      <th>Weight</th>\n",
       "      <th>Price</th>\n",
       "    </tr>\n",
       "  </thead>\n",
       "  <tbody>\n",
       "  </tbody>\n",
       "</table>\n",
       "</div>"
      ],
      "text/plain": [
       "Empty DataFrame\n",
       "Columns: [CPU, GHz, GPU, RAM, RAMType, Screen, Storage, SSD, Weight, Price]\n",
       "Index: []"
      ]
     },
     "execution_count": 12,
     "metadata": {},
     "output_type": "execute_result"
    }
   ],
   "source": [
    "detect_outliers(data, 'Screen', remove_outlier=False)"
   ]
  },
  {
   "cell_type": "code",
   "execution_count": 13,
   "id": "78e3b40c",
   "metadata": {},
   "outputs": [
    {
     "data": {
      "image/png": "[encoded data removed]",
      "text/plain": [
       "<Figure size 720x432 with 1 Axes>"
      ]
     },
     "metadata": {},
     "output_type": "display_data"
    }
   ],
   "source": [
    "plt.figure(figsize = (10, 6))\n",
    "sns.boxplot(data.Screen)\n",
    "plt.show()"
   ]
  },
  {
   "cell_type": "code",
   "execution_count": 14,
   "id": "51e4c3ab",
   "metadata": {},
   "outputs": [
    {
     "data": {
      "text/html": [
       "<div>\n",
       "<style scoped>\n",
       "    .dataframe tbody tr th:only-of-type {\n",
       "        vertical-align: middle;\n",
       "    }\n",
       "\n",
       "    .dataframe tbody tr th {\n",
       "        vertical-align: top;\n",
       "    }\n",
       "\n",
       "    .dataframe thead th {\n",
       "        text-align: right;\n",
       "    }\n",
       "</style>\n",
       "<table border=\"1\" class=\"dataframe\">\n",
       "  <thead>\n",
       "    <tr style=\"text-align: right;\">\n",
       "      <th></th>\n",
       "      <th>CPU</th>\n",
       "      <th>GHz</th>\n",
       "      <th>GPU</th>\n",
       "      <th>RAM</th>\n",
       "      <th>RAMType</th>\n",
       "      <th>Screen</th>\n",
       "      <th>Storage</th>\n",
       "      <th>SSD</th>\n",
       "      <th>Weight</th>\n",
       "      <th>Price</th>\n",
       "    </tr>\n",
       "  </thead>\n",
       "  <tbody>\n",
       "  </tbody>\n",
       "</table>\n",
       "</div>"
      ],
      "text/plain": [
       "Empty DataFrame\n",
       "Columns: [CPU, GHz, GPU, RAM, RAMType, Screen, Storage, SSD, Weight, Price]\n",
       "Index: []"
      ]
     },
     "execution_count": 14,
     "metadata": {},
     "output_type": "execute_result"
    }
   ],
   "source": [
    "detect_outliers(data, 'Storage', remove_outlier=False)"
   ]
  },
  {
   "cell_type": "code",
   "execution_count": 15,
   "id": "855c759d",
   "metadata": {},
   "outputs": [
    {
     "data": {
      "image/png": "[encoded data removed]",
      "text/plain": [
       "<Figure size 720x432 with 1 Axes>"
      ]
     },
     "metadata": {},
     "output_type": "display_data"
    }
   ],
   "source": [
    "plt.figure(figsize = (10, 6))\n",
    "sns.boxplot(data.Storage)\n",
    "plt.show()"
   ]
  },
  {
   "cell_type": "code",
   "execution_count": 16,
   "id": "975e7ff7",
   "metadata": {},
   "outputs": [
    {
     "data": {
      "text/html": [
       "<div>\n",
       "<style scoped>\n",
       "    .dataframe tbody tr th:only-of-type {\n",
       "        vertical-align: middle;\n",
       "    }\n",
       "\n",
       "    .dataframe tbody tr th {\n",
       "        vertical-align: top;\n",
       "    }\n",
       "\n",
       "    .dataframe thead th {\n",
       "        text-align: right;\n",
       "    }\n",
       "</style>\n",
       "<table border=\"1\" class=\"dataframe\">\n",
       "  <thead>\n",
       "    <tr style=\"text-align: right;\">\n",
       "      <th></th>\n",
       "      <th>CPU</th>\n",
       "      <th>GHz</th>\n",
       "      <th>GPU</th>\n",
       "      <th>RAM</th>\n",
       "      <th>RAMType</th>\n",
       "      <th>Screen</th>\n",
       "      <th>Storage</th>\n",
       "      <th>SSD</th>\n",
       "      <th>Weight</th>\n",
       "      <th>Price</th>\n",
       "    </tr>\n",
       "  </thead>\n",
       "  <tbody>\n",
       "  </tbody>\n",
       "</table>\n",
       "</div>"
      ],
      "text/plain": [
       "Empty DataFrame\n",
       "Columns: [CPU, GHz, GPU, RAM, RAMType, Screen, Storage, SSD, Weight, Price]\n",
       "Index: []"
      ]
     },
     "execution_count": 16,
     "metadata": {},
     "output_type": "execute_result"
    }
   ],
   "source": [
    "detect_outliers(data, 'Weight', remove_outlier=False)"
   ]
  },
  {
   "cell_type": "code",
   "execution_count": 17,
   "id": "68b2edff",
   "metadata": {},
   "outputs": [
    {
     "data": {
      "image/png": "[encoded data removed]",
      "text/plain": [
       "<Figure size 720x432 with 1 Axes>"
      ]
     },
     "metadata": {},
     "output_type": "display_data"
    }
   ],
   "source": [
    "plt.figure(figsize = (10, 6))\n",
    "sns.boxplot(data.Weight)\n",
    "plt.show()"
   ]
  },
  {
   "cell_type": "markdown",
   "id": "6c756ddd",
   "metadata": {},
   "source": [
    "No Outlier present in the numerical columns"
   ]
  },
  {
   "cell_type": "markdown",
   "id": "9623919c",
   "metadata": {},
   "source": [
    "## Working with Categorical Columns"
   ]
  },
  {
   "cell_type": "code",
   "execution_count": 18,
   "id": "a53bb13a",
   "metadata": {},
   "outputs": [
    {
     "data": {
      "text/html": [
       "<div>\n",
       "<style scoped>\n",
       "    .dataframe tbody tr th:only-of-type {\n",
       "        vertical-align: middle;\n",
       "    }\n",
       "\n",
       "    .dataframe tbody tr th {\n",
       "        vertical-align: top;\n",
       "    }\n",
       "\n",
       "    .dataframe thead th {\n",
       "        text-align: right;\n",
       "    }\n",
       "</style>\n",
       "<table border=\"1\" class=\"dataframe\">\n",
       "  <thead>\n",
       "    <tr style=\"text-align: right;\">\n",
       "      <th></th>\n",
       "      <th>CPU</th>\n",
       "      <th>GPU</th>\n",
       "      <th>RAMType</th>\n",
       "    </tr>\n",
       "  </thead>\n",
       "  <tbody>\n",
       "    <tr>\n",
       "      <th>0</th>\n",
       "      <td>i5</td>\n",
       "      <td>intel</td>\n",
       "      <td>ddr3</td>\n",
       "    </tr>\n",
       "    <tr>\n",
       "      <th>1</th>\n",
       "      <td>i5</td>\n",
       "      <td>intel</td>\n",
       "      <td>ddr3</td>\n",
       "    </tr>\n",
       "    <tr>\n",
       "      <th>2</th>\n",
       "      <td>i5</td>\n",
       "      <td>intel</td>\n",
       "      <td>ddr3</td>\n",
       "    </tr>\n",
       "    <tr>\n",
       "      <th>3</th>\n",
       "      <td>i5</td>\n",
       "      <td>intel</td>\n",
       "      <td>ddr3</td>\n",
       "    </tr>\n",
       "    <tr>\n",
       "      <th>4</th>\n",
       "      <td>i5</td>\n",
       "      <td>intel</td>\n",
       "      <td>ddr3</td>\n",
       "    </tr>\n",
       "  </tbody>\n",
       "</table>\n",
       "</div>"
      ],
      "text/plain": [
       "  CPU    GPU RAMType\n",
       "0  i5  intel    ddr3\n",
       "1  i5  intel    ddr3\n",
       "2  i5  intel    ddr3\n",
       "3  i5  intel    ddr3\n",
       "4  i5  intel    ddr3"
      ]
     },
     "execution_count": 18,
     "metadata": {},
     "output_type": "execute_result"
    }
   ],
   "source": [
    "categorical_feats = data.select_dtypes(['object'])\n",
    "categorical_feats.head()"
   ]
  },
  {
   "cell_type": "code",
   "execution_count": 19,
   "id": "adaff08d",
   "metadata": {},
   "outputs": [
    {
     "data": {
      "text/plain": [
       "i5     326\n",
       "i7     104\n",
       "i3      30\n",
       "a10      7\n",
       "m        1\n",
       "m5       1\n",
       "Name: CPU, dtype: int64"
      ]
     },
     "execution_count": 19,
     "metadata": {},
     "output_type": "execute_result"
    }
   ],
   "source": [
    "categorical_feats.CPU.value_counts()"
   ]
  },
  {
   "cell_type": "code",
   "execution_count": 20,
   "id": "4970b4d2",
   "metadata": {},
   "outputs": [
    {
     "data": {
      "text/plain": [
       "intel      394\n",
       "nvidia      49\n",
       "amd         19\n",
       "firepro      3\n",
       "radeon       3\n",
       "geforce      1\n",
       "Name: GPU, dtype: int64"
      ]
     },
     "execution_count": 20,
     "metadata": {},
     "output_type": "execute_result"
    }
   ],
   "source": [
    "categorical_feats.GPU.value_counts()"
   ]
  },
  {
   "cell_type": "code",
   "execution_count": 21,
   "id": "ccf122bd",
   "metadata": {},
   "outputs": [
    {
     "data": {
      "text/plain": [
       "ddr3    300\n",
       "ddr4    169\n",
       "Name: RAMType, dtype: int64"
      ]
     },
     "execution_count": 21,
     "metadata": {},
     "output_type": "execute_result"
    }
   ],
   "source": [
    "categorical_feats.RAMType.value_counts()"
   ]
  },
  {
   "cell_type": "code",
   "execution_count": 22,
   "id": "90cdbe65",
   "metadata": {},
   "outputs": [],
   "source": [
    "data.to_csv(\"laptoppricesnew.csv\")"
   ]
  },
  {
   "cell_type": "code",
   "execution_count": null,
   "id": "64858074",
   "metadata": {},
   "outputs": [],
   "source": []
  },
  {
   "cell_type": "code",
   "execution_count": null,
   "id": "b0d42370",
   "metadata": {},
   "outputs": [],
   "source": []
  },
  {
   "cell_type": "code",
   "execution_count": null,
   "id": "fb647732",
   "metadata": {},
   "outputs": [],
   "source": []
  },
  {
   "cell_type": "code",
   "execution_count": null,
   "id": "3b63c972",
   "metadata": {},
   "outputs": [],
   "source": []
  },
  {
   "cell_type": "code",
   "execution_count": null,
   "id": "af85266f",
   "metadata": {},
   "outputs": [],
   "source": []
  }
 ],
 "metadata": {
  "kernelspec": {
   "display_name": "Python 3 (ipykernel)",
   "language": "python",
   "name": "python3"
  },
  "language_info": {
   "codemirror_mode": {
    "name": "ipython",
    "version": 3
   },
   "file_extension": ".py",
   "mimetype": "text/x-python",
   "name": "python",
   "nbconvert_exporter": "python",
   "pygments_lexer": "ipython3",
   "version": "3.10.4"
  }
 },
 "nbformat": 4,
 "nbformat_minor": 5
}
